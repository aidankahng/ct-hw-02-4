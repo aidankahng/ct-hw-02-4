{
 "cells": [
  {
   "cell_type": "markdown",
   "id": "4e89c250",
   "metadata": {},
   "source": [
    "# Exercises"
   ]
  },
  {
   "cell_type": "markdown",
   "id": "f62520c6",
   "metadata": {},
   "source": [
    "### 1) Address Book\n",
    "\n",
    "\n",
    "Develop a user-friendly program that acts as an address book. The program should have the following functionalities:\n",
    "\n",
    "1. Upon starting the program, create an empty dictionary to store names and addresses.\n",
    "\n",
    "2. Allow the user to add people to the address book. For each entry, prompt the user to input a name and its corresponding address. Store these as key-value pairs in the dictionary.\n",
    "\n",
    "3. Provide a clear and straightforward menu for the user, including options to add a new entry or quit the program.\n",
    "\n",
    "4. Implement a loop that allows users to continue adding entries until they explicitly choose to quit.\n",
    "\n",
    "5. When the user decides to quit, break out of the loop and display the collected information. Print out the names and addresses of everyone in the address book in a well-formatted manner.\n",
    "\n",
    "6. Consider adding error handling to handle unexpected inputs gracefully. For instance, if the user provides invalid input when prompted for a name or address, handle the error and ask for the information again.\n",
    "\n",
    "7. Provide a user-friendly and informative message when the program terminates, summarizing the data entered and thanking the user for using the address book."
   ]
  },
  {
   "cell_type": "code",
   "execution_count": null,
   "id": "3c527d5d",
   "metadata": {},
   "outputs": [],
   "source": [
    "import time\n",
    "\n",
    "def send_book():\n",
    "    time.sleep(1)\n",
    "    print(f\"\\n\\tBook is being printed...\")\n",
    "    time.sleep(2)\n",
    "    print(f\"\\n\\tBook is being prepared for delivery...\")\n",
    "    time.sleep(2)\n",
    "    print(f\"\\n\\tBook is being sent...\")\n",
    "    time.sleep(2)\n",
    "    print(f\"\\n\\tHere's your book!\")\n",
    "\n",
    "def main():\n",
    "    running = True\n",
    "    address_bk = {}\n",
    "    while running:\n",
    "        decide = input(\"\\nEnter 'a' to add new address\\nEnter 'v' to view current address book\\nEnter 'q' to quit and send address book.\\n\")\n",
    "        if decide.strip() == 'a':\n",
    "            name = input(\"Input a name: \").strip(\" .,\").title()\n",
    "            addr = input(\"What is their address: \")\n",
    "            address_bk[name] = addr\n",
    "        elif decide.strip() == 'q':\n",
    "            running = False\n",
    "        elif decide.strip() == 'v':\n",
    "            print(address_bk)\n",
    "        \n",
    "    print(f\"\\n##############ADDRESS BOOK##############\")\n",
    "    for name in address_bk:\n",
    "        print(\"-\"*40)\n",
    "        print(f\"{name}'s address is: {address_bk[name]}\")\n",
    "    print(f\"\\nThank you for using this address book!\")\n",
    "    send_book()\n",
    "    return address_bk\n",
    "\n",
    "main()"
   ]
  },
  {
   "cell_type": "markdown",
   "id": "8925996f",
   "metadata": {},
   "source": [
    "### 2) Best Time to Meet"
   ]
  },
  {
   "cell_type": "markdown",
   "id": "ddb5584a",
   "metadata": {},
   "source": [
    "Billy is trying to figure out if there is a time that he and his team can meet to work on the project. His three teammates each give him a set of times they are available ('HH:MM' 24-hour). Create a function that will take in any number of sets of available times (*remember \\*args*) and return a set of times where everyone can meet."
   ]
  },
  {
   "cell_type": "code",
   "execution_count": null,
   "id": "2529a9fb",
   "metadata": {},
   "outputs": [],
   "source": [
    "person1 = {'09:00', '10:30', '11:30', '12:00', '13:00', '14:30'}\n",
    "person2 = {'09:30', '10:00', '10:30', '12:00', '14:30', '16:00'}\n",
    "person3 = {'09:00', '09:30', '11:00', '11:30', '12:00', '13:30', '14:30', '15:00'}\n",
    "person4 = {'11:00', '11:30', '12:00', '14:00', '14:30', '16:30', '17:00'}\n",
    "# Available Times: '12:00' and '14:30'\n",
    "people = [person1, person2, person3, person4]\n",
    "\n",
    "def shared_elements(*args):\n",
    "    running_set = set()\n",
    "    for item in range(len(args)):\n",
    "        if item == 0:\n",
    "            running_set = args[item]\n",
    "        else:\n",
    "            running_set = running_set & args[item]\n",
    "    return running_set\n",
    "\n",
    "print(shared_elements(*people))"
   ]
  },
  {
   "cell_type": "code",
   "execution_count": null,
   "id": "780963b2",
   "metadata": {},
   "outputs": [],
   "source": []
  }
 ],
 "metadata": {
  "kernelspec": {
   "display_name": "Python 3 (ipykernel)",
   "language": "python",
   "name": "python3"
  },
  "language_info": {
   "codemirror_mode": {
    "name": "ipython",
    "version": 3
   },
   "file_extension": ".py",
   "mimetype": "text/x-python",
   "name": "python",
   "nbconvert_exporter": "python",
   "pygments_lexer": "ipython3",
   "version": "3.11.5"
  }
 },
 "nbformat": 4,
 "nbformat_minor": 5
}
